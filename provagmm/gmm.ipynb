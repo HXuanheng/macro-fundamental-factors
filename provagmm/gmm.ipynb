{
 "cells": [
  {
   "cell_type": "code",
   "execution_count": 9,
   "metadata": {},
   "outputs": [],
   "source": [
    "resource = \"../data/generated/\""
   ]
  },
  {
   "cell_type": "code",
   "execution_count": 20,
   "metadata": {},
   "outputs": [],
   "source": [
    "import pandas as pd\n",
    "from numpy import hstack, zeros, ones, array, mat, tile, reshape, squeeze, eye, asmatrix\n",
    "from gmm import *"
   ]
  },
  {
   "cell_type": "code",
   "execution_count": 11,
   "metadata": {},
   "outputs": [],
   "source": [
    "# Set the start and end dates of the analysis period\n",
    "start_date = pd.to_datetime('1978-01-01')\n",
    "end_date = pd.to_datetime('2008-04-30')\n",
    "\n",
    "ts = pd.read_csv(resource + 'time_series_1.csv', parse_dates=['date'], index_col=['date'])\n",
    "ts.index.freq = 'M'\n",
    "\n",
    "# Set analysis period\n",
    "ts1 = ts.loc[(ts.index >= start_date) & (ts.index <= end_date)]"
   ]
  },
  {
   "cell_type": "code",
   "execution_count": 28,
   "metadata": {},
   "outputs": [
    {
     "name": "stdout",
     "output_type": "stream",
     "text": [
      "Func value: 0.15965071032148814, Iteration: 313, Function Count: 3192\n",
      "Func value: 0.07590290451970585, Iteration: 314, Function Count: 3199\n",
      "Func value: 0.010457103722225972, Iteration: 315, Function Count: 3206\n",
      "Func value: 0.010439252214099347, Iteration: 316, Function Count: 3248\n",
      "Func value: 0.010290340761164113, Iteration: 317, Function Count: 3262\n",
      "Func value: 0.010028826319734105, Iteration: 318, Function Count: 3269\n",
      "Func value: 0.009560343068086242, Iteration: 319, Function Count: 3276\n",
      "Func value: 0.008730228001183532, Iteration: 320, Function Count: 3283\n",
      "Func value: 0.00733539909353867, Iteration: 321, Function Count: 3290\n",
      "Func value: 0.005351897794783812, Iteration: 322, Function Count: 3297\n",
      "Func value: 0.004145745358244256, Iteration: 323, Function Count: 3304\n",
      "Func value: 0.0035000614767941793, Iteration: 324, Function Count: 3311\n",
      "Func value: 0.003346008278587627, Iteration: 325, Function Count: 3318\n",
      "Func value: 0.003336153051436561, Iteration: 326, Function Count: 3325\n",
      "Func value: 0.0033359514017502283, Iteration: 327, Function Count: 3332\n",
      "Func value: 0.0033359473999999816, Iteration: 328, Function Count: 3339\n",
      "Func value: 0.003335940431821907, Iteration: 329, Function Count: 3346\n",
      "Func value: 0.003335927758336187, Iteration: 330, Function Count: 3353\n",
      "Func value: 0.003335904240217127, Iteration: 331, Function Count: 3360\n",
      "Func value: 0.0033358604640233583, Iteration: 332, Function Count: 3367\n",
      "Func value: 0.003335779508787208, Iteration: 333, Function Count: 3374\n",
      "Func value: 0.003335632140015246, Iteration: 334, Function Count: 3381\n",
      "Func value: 0.003335369873506723, Iteration: 335, Function Count: 3388\n",
      "Func value: 0.003334916010404609, Iteration: 336, Function Count: 3395\n",
      "Func value: 0.0033341481079426673, Iteration: 337, Function Count: 3402\n",
      "Func value: 0.003332848861274637, Iteration: 338, Function Count: 3409\n",
      "Func value: 0.003330599990872952, Iteration: 339, Function Count: 3416\n",
      "Func value: 0.0033266084663807847, Iteration: 340, Function Count: 3423\n",
      "Func value: 0.0033194158984032785, Iteration: 341, Function Count: 3430\n",
      "Func value: 0.0033064019520311037, Iteration: 342, Function Count: 3437\n",
      "Func value: 0.003282982420241584, Iteration: 343, Function Count: 3444\n",
      "Func value: 0.0032414546472449898, Iteration: 344, Function Count: 3451\n",
      "Func value: 0.0031696469158561617, Iteration: 345, Function Count: 3458\n",
      "Func value: 0.003050154246367112, Iteration: 346, Function Count: 3465\n",
      "Func value: 0.002862299739408648, Iteration: 347, Function Count: 3472\n",
      "Func value: 0.0026022971333525676, Iteration: 348, Function Count: 3479\n",
      "Func value: 0.002358505622055614, Iteration: 349, Function Count: 3486\n",
      "Func value: 0.0022018284894959766, Iteration: 350, Function Count: 3493\n",
      "Func value: 0.002172485486516479, Iteration: 351, Function Count: 3500\n",
      "Optimization terminated successfully.\n",
      "         Current function value: 0.002172\n",
      "         Iterations: 39\n",
      "         Function evaluations: 350\n",
      "         Gradient evaluations: 50\n"
     ]
    }
   ],
   "source": [
    "bm_port = pd.read_csv(resource + f'bm_port.csv', parse_dates=['date'], index_col=['date'])\n",
    "ts3 = pd.merge(ts1, bm_port, on='date', how='left')\n",
    "macro_factors = ts3[['myp','ui','dsv','ats','sts','fx']].values\n",
    "financial_factors = ts3[['ex_mkt','smb','hml','mom']].values\n",
    "riskfree = ts3['rf'].values\n",
    "portfolios = ts3[['dec_1','dec_2','dec_3','dec_4','dec_5','dec_6','dec_7','dec_8','dec_9','dec_10']].values\n",
    "T,N = portfolios.shape\n",
    "excessRet = portfolios - reshape(riskfree,(T,1))\n",
    "K = np.size(macro_factors,1)\n",
    "\n",
    "betas = []\n",
    "startingVals = zeros(6)\n",
    "\n",
    "Winv = eye(N)\n",
    "args = (excessRet, macro_factors, Winv)\n",
    "iteration = 0\n",
    "lastValue = 0\n",
    "functionCount = 0\n",
    "fit_gmm = fmin_bfgs(gmm_objective_b, startingVals, args=(excessRet, macro_factors, eye(N)), callback=iter_print)\n"
   ]
  }
 ],
 "metadata": {
  "kernelspec": {
   "display_name": ".env",
   "language": "python",
   "name": "python3"
  },
  "language_info": {
   "codemirror_mode": {
    "name": "ipython",
    "version": 3
   },
   "file_extension": ".py",
   "mimetype": "text/x-python",
   "name": "python",
   "nbconvert_exporter": "python",
   "pygments_lexer": "ipython3",
   "version": "3.11.1"
  },
  "orig_nbformat": 4
 },
 "nbformat": 4,
 "nbformat_minor": 2
}
