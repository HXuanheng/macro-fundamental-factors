{
 "cells": [
  {
   "cell_type": "code",
   "execution_count": 7,
   "metadata": {},
   "outputs": [],
   "source": [
    "resource = \"../data/generated/\""
   ]
  },
  {
   "cell_type": "code",
   "execution_count": 8,
   "metadata": {},
   "outputs": [],
   "source": [
    "import pandas as pd\n",
    "from scipy.optimize import fmin_bfgs, basinhopping, differential_evolution\n",
    "import scipy.optimize as opt \n",
    "from numpy import hstack, zeros, ones, array, mat, tile, reshape, squeeze, eye, asmatrix\n",
    "from gmm import *"
   ]
  },
  {
   "cell_type": "code",
   "execution_count": 9,
   "metadata": {},
   "outputs": [],
   "source": [
    "# Set the start and end dates of the analysis period\n",
    "start_date = pd.to_datetime('1975-01-01')\n",
    "end_date = pd.to_datetime('2008-04-30')\n",
    "\n",
    "ts = pd.read_csv(resource + 'time_series_1.csv', parse_dates=['date'], index_col=['date'])\n",
    "ts.index.freq = 'M'\n",
    "\n",
    "# Set analysis period\n",
    "ts1 = ts.loc[(ts.index >= start_date) & (ts.index <= end_date)]"
   ]
  },
  {
   "cell_type": "code",
   "execution_count": 10,
   "metadata": {},
   "outputs": [
    {
     "data": {
      "text/plain": [
       "  message: Desired error not necessarily achieved due to precision loss.\n",
       "  success: False\n",
       "   status: 2\n",
       "      fun: 0.001689611555707051\n",
       "        x: [-3.604e+01  1.696e+02  8.137e+01 -1.558e+02  3.320e+01\n",
       "            -6.113e+00]\n",
       "      nit: 139\n",
       "      jac: [-1.150e-09  4.802e-10 -1.746e-10  1.019e-10  6.112e-10\n",
       "             6.257e-10]\n",
       " hess_inv: [[ 1.755e+05  1.120e+05 ...  1.777e+05 -3.468e+04]\n",
       "            [ 1.120e+05  8.404e+04 ...  9.996e+04 -2.345e+04]\n",
       "            ...\n",
       "            [ 1.777e+05  9.996e+04 ...  2.224e+05 -7.138e+04]\n",
       "            [-3.468e+04 -2.345e+04 ... -7.138e+04  6.554e+04]]\n",
       "     nfev: 1267\n",
       "     njev: 181"
      ]
     },
     "execution_count": 10,
     "metadata": {},
     "output_type": "execute_result"
    }
   ],
   "source": [
    "bm_port = pd.read_csv(resource + f'bm_port.csv', parse_dates=['date'], index_col=['date'])\n",
    "ts3 = pd.merge(ts1, bm_port, on='date', how='left')\n",
    "macro_factors = ts3[['myp','ui','dsv','ats','sts','fx']].values\n",
    "financial_factors = ts3[['ex_mkt','smb','hml','mom']].values\n",
    "riskfree = ts3['rf'].values\n",
    "portfolios = ts3[['dec_1','dec_2','dec_3','dec_4','dec_5','dec_6','dec_7','dec_8','dec_9','dec_10']].values\n",
    "T,N = portfolios.shape\n",
    "excessRet = portfolios - reshape(riskfree,(T,1))\n",
    "K = np.size(macro_factors,1)\n",
    "\n",
    "startingVals = zeros(6)\n",
    "# startingVals = [\n",
    "# -49.5247,\n",
    "# -4.7737,\n",
    "# 113.7766,\n",
    "# 25.9245,\n",
    "# 90.8717,\n",
    "# 16.7917\n",
    "# ]\n",
    "# startingVals = [\n",
    "# 1000,\n",
    "# 1000,\n",
    "# 1000,\n",
    "# 1000,\n",
    "# 1000,\n",
    "# 1000\n",
    "#  ]\n",
    "\n",
    "Winv = eye(N)\n",
    "args = (excessRet, macro_factors, Winv)\n",
    "iteration = 0\n",
    "lastValue = 0\n",
    "functionCount = 0\n",
    "# fit_gmm = fmin_bfgs(gmm_objective_b, startingVals, args=(excessRet, macro_factors, eye(N)), callback=iter_print)\n",
    "# fit_gmm = basinhopping(gmm_objective_b, startingVals, minimizer_kwargs={'args': args})\n",
    "# fit_gmm = differential_evolution(gmm_objective_b, bounds=[(1e-10, 1000), (1e-10, 1000), (1e-10, 1000), (1e-10, 1000), (1e-10, 1000), (1e-10, 1000)], args=args)\n",
    "fit_gmm = opt.minimize(gmm_objective_b, startingVals, args=(excessRet, macro_factors, eye(N)),\n",
    "                       method='BFGS', options={'gtol': 1e-10, 'maxiter': 1000})\n",
    "# fit_gmm = opt.minimize(gmm_objective_b, startingVals, args=(excessRet, macro_factors, eye(N)),\n",
    "#                        method='Nelder-Mead')\n",
    "# fit_gmm = opt.minimize(gmm_objective_b, startingVals, args=(excessRet, macro_factors, eye(N)), callback=iter_print, method='L-BFGS-B')\n",
    "fit_gmm"
   ]
  },
  {
   "cell_type": "code",
   "execution_count": 11,
   "metadata": {},
   "outputs": [
    {
     "name": "stdout",
     "output_type": "stream",
     "text": [
      "Optimization terminated successfully.\n",
      "         Current function value: 0.000004\n",
      "         Iterations: 138\n",
      "         Function evaluations: 174\n",
      "         Gradient evaluations: 174\n"
     ]
    },
    {
     "data": {
      "text/html": [
       "<table class=\"simpletable\">\n",
       "<caption>estimate_b Results</caption>\n",
       "<tr>\n",
       "  <th>Dep. Variable:</th>            <td>y</td>        <th>  Hansen J:          </th> <td>0.001690</td>\n",
       "</tr>\n",
       "<tr>\n",
       "  <th>Model:</th>               <td>estimate_b</td>    <th>  Prob (Hansen J):   </th>  <td>  1.00</td> \n",
       "</tr>\n",
       "<tr>\n",
       "  <th>Method:</th>                  <td>GMM</td>       <th>                     </th>     <td> </td>   \n",
       "</tr>\n",
       "<tr>\n",
       "  <th>Date:</th>             <td>Wed, 10 May 2023</td> <th>                     </th>     <td> </td>   \n",
       "</tr>\n",
       "<tr>\n",
       "  <th>Time:</th>                 <td>14:52:38</td>     <th>                     </th>     <td> </td>   \n",
       "</tr>\n",
       "<tr>\n",
       "  <th>No. Observations:</th>      <td>   400</td>      <th>                     </th>     <td> </td>   \n",
       "</tr>\n",
       "</table>\n",
       "<table class=\"simpletable\">\n",
       "<tr>\n",
       "   <td></td>     <th>coef</th>     <th>std err</th>      <th>z</th>      <th>P>|z|</th>  <th>[0.025</th>    <th>0.975]</th>  \n",
       "</tr>\n",
       "<tr>\n",
       "  <th>x1</th> <td>  -36.0391</td> <td>   54.753</td> <td>   -0.658</td> <td> 0.510</td> <td> -143.352</td> <td>   71.274</td>\n",
       "</tr>\n",
       "<tr>\n",
       "  <th>x2</th> <td>  169.5382</td> <td>  202.575</td> <td>    0.837</td> <td> 0.403</td> <td> -227.501</td> <td>  566.577</td>\n",
       "</tr>\n",
       "<tr>\n",
       "  <th>x3</th> <td>   81.3747</td> <td>   56.940</td> <td>    1.429</td> <td> 0.153</td> <td>  -30.225</td> <td>  192.974</td>\n",
       "</tr>\n",
       "<tr>\n",
       "  <th>x4</th> <td> -155.8005</td> <td>  140.894</td> <td>   -1.106</td> <td> 0.269</td> <td> -431.947</td> <td>  120.346</td>\n",
       "</tr>\n",
       "<tr>\n",
       "  <th>x5</th> <td>   33.2021</td> <td>   86.896</td> <td>    0.382</td> <td> 0.702</td> <td> -137.111</td> <td>  203.515</td>\n",
       "</tr>\n",
       "<tr>\n",
       "  <th>x6</th> <td>   -6.1122</td> <td>   34.160</td> <td>   -0.179</td> <td> 0.858</td> <td>  -73.065</td> <td>   60.841</td>\n",
       "</tr>\n",
       "</table>"
      ],
      "text/plain": [
       "<class 'statsmodels.iolib.summary.Summary'>\n",
       "\"\"\"\n",
       "                              estimate_b Results                              \n",
       "==============================================================================\n",
       "Dep. Variable:                      y   Hansen J:                     0.001690\n",
       "Model:                     estimate_b   Prob (Hansen J):                  1.00\n",
       "Method:                           GMM                                         \n",
       "Date:                Wed, 10 May 2023                                         \n",
       "Time:                        14:52:38                                         \n",
       "No. Observations:                 400                                         \n",
       "==============================================================================\n",
       "                 coef    std err          z      P>|z|      [0.025      0.975]\n",
       "------------------------------------------------------------------------------\n",
       "x1           -36.0391     54.753     -0.658      0.510    -143.352      71.274\n",
       "x2           169.5382    202.575      0.837      0.403    -227.501     566.577\n",
       "x3            81.3747     56.940      1.429      0.153     -30.225     192.974\n",
       "x4          -155.8005    140.894     -1.106      0.269    -431.947     120.346\n",
       "x5            33.2021     86.896      0.382      0.702    -137.111     203.515\n",
       "x6            -6.1122     34.160     -0.179      0.858     -73.065      60.841\n",
       "==============================================================================\n",
       "\"\"\""
      ]
     },
     "execution_count": 11,
     "metadata": {},
     "output_type": "execute_result"
    }
   ],
   "source": [
    "import numpy as np\n",
    "from statsmodels.sandbox.regression.gmm import GMM\n",
    "\n",
    "class estimate_b(GMM):\n",
    "    def momcond(self, params):\n",
    "        fRets = self.exog\n",
    "        pRets = self.instrument\n",
    "        T,N = pRets.shape\n",
    "        T,K = fRets.shape\n",
    "        b = params\n",
    "        b = squeeze(array(params)) \n",
    "        b = reshape(b,(K,1))\n",
    "        sdf = ones((T,1)) - fRets @ b\n",
    "        moments = pRets * kron(sdf,ones((1,N)))\n",
    "        return moments\n",
    "\n",
    "gmm_mod = estimate_b(endog=zeros(macro_factors.shape[0]), exog=macro_factors, instrument=excessRet)\n",
    "gmm_fit8 = gmm_mod.fit(start_params=zeros(6), maxiter=1, inv_weights=eye(N), weights_method='hac', wargs={'maxlag':12}, optim_method='bfgs', optim_args={'gtol': 1e-10, 'maxiter': 1000})\n",
    "gmm_fit8.summary()"
   ]
  },
  {
   "cell_type": "code",
   "execution_count": 12,
   "metadata": {},
   "outputs": [
    {
     "data": {
      "text/plain": [
       "0.01571008063240392"
      ]
     },
     "execution_count": 12,
     "metadata": {},
     "output_type": "execute_result"
    }
   ],
   "source": [
    "# b = ([ -49.5247,\n",
    "# -4.7737,\n",
    "# 113.7766,\n",
    "# 25.9245,\n",
    "# 90.8717,\n",
    "# 16.7917])\n",
    "# b = ([-46.47,  4.675,  108.4,  4.868,  94.44,\n",
    "                #   12.19])\n",
    "# b = ([ -50.01969851,  22.80054891, 107.80604282, -27.68159424,\n",
    "#         85.04568974,   4.42476452])\n",
    "# b = ([ -30.11158833,  237.66483381,   88.98292253, -148.44282895,\n",
    "#          52.95375349,  -13.72251736])\n",
    "b = ([ -2.448e+01,  2.359e+02,  8.662e+01, -1.550e+02,  6.203e+01,\n",
    "            -1.383e+01])\n",
    "# b = ([ 20.24410124, -1.89313026, 16.9439695 , -2.33814035, -1.56179756,\n",
    "#        -2.41001749])\n",
    "J = gmm_objective_b(b, excessRet, macro_factors, eye(N))\n",
    "J"
   ]
  }
 ],
 "metadata": {
  "kernelspec": {
   "display_name": ".env",
   "language": "python",
   "name": "python3"
  },
  "language_info": {
   "codemirror_mode": {
    "name": "ipython",
    "version": 3
   },
   "file_extension": ".py",
   "mimetype": "text/x-python",
   "name": "python",
   "nbconvert_exporter": "python",
   "pygments_lexer": "ipython3",
   "version": "3.11.1"
  },
  "orig_nbformat": 4
 },
 "nbformat": 4,
 "nbformat_minor": 2
}
