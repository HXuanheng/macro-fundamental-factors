{
 "cells": [
  {
   "cell_type": "code",
   "execution_count": 1,
   "id": "3a7ff84b-8ec0-4d97-b5cf-2771d3dfdcf0",
   "metadata": {},
   "outputs": [],
   "source": [
    "from linearmodels.panel import PanelOLS\n",
    "import pandas as pd\n",
    "from tabprintin.beautify import *"
   ]
  },
  {
   "cell_type": "code",
   "execution_count": 2,
   "id": "ecfd5c09-b7a1-49e4-87a3-ddaf1e25b72b",
   "metadata": {},
   "outputs": [],
   "source": [
    "resource = \"../../data/generated/\"\n",
    "results = \"../../results/\"\n",
    "\n",
    "smp = pd.read_csv(\"smp_da.csv\")\n",
    "\n",
    "mod1 = PanelOLS.from_formula('mj_da ~ EntityEffects + TimeEffects + ln_ta + mtb + ebit_avgta + sales_growth',\n",
    "                            data=smp.set_index(['gvkey', 'fyear'])\n",
    "                           )\n",
    "reg1 = mod1.fit(cov_type='clustered', cluster_entity=True, cluster_time=True)"
   ]
  },
  {
   "cell_type": "code",
   "execution_count": 24,
   "id": "a7e686f8-c95c-41c6-ae8c-888674b5c10c",
   "metadata": {},
   "outputs": [
    {
     "name": "stdout",
     "output_type": "stream",
     "text": [
      "{\n",
      "\\def\\sym#1{\\ifmmode^{#1}\\else\\(^{#1}\\)\\fi}\n",
      "\\begin{tabular}{@{\\extracolsep{2pt}}l*{1}{c}@{}}\n",
      "\\hline\\hline\n",
      "& \\multicolumn{1}{c}{Group 1} \\\\\n",
      "\\cline{2-2}\n",
      " & (1) \\\\\n",
      "\\hline\n",
      "Return on assets & 0.232\\sym{***} \\\\\n",
      " & (0.026) \\\\\n",
      "Ln(Total assets) & -0.041\\sym{***} \\\\\n",
      " & (0.005) \\\\\n",
      "Market to book & 0.000 \\\\\n",
      " & (0.000) \\\\\n",
      "Sales growth & 0.010\\sym{**} \\\\\n",
      " & (0.004) \\\\\n",
      "nobs & ciao \\\\\n",
      "\n",
      "\\hline\n",
      "Obs & 57163 \\\\\n",
      "Adj. R\\sym{2} &  \\\\\n",
      "F-stat & 2811.931 \\\\\n",
      "\\hline\\hline\n",
      "\\multicolumn{2}{l}{\\footnotesize $^{*}$p$<$0.1; $^{**}$p$<$0.05; $^{***}$p$<$0.01}\n",
      "\\end{tabular}\n",
      "}\n"
     ]
    },
    {
     "name": "stderr",
     "output_type": "stream",
     "text": [
      "C:\\Users\\Huang\\OneDrive - Università Commerciale Luigi Bocconi (1)\\python\\reprotin\\code\\do_analysis\\tabprintin\\beautify.py:336: FutureWarning: The frame.append method is deprecated and will be removed from pandas in a future version. Use pandas.concat instead.\n",
      "  df = df.append(pd.DataFrame([[str(v) for v in value]],index=[key],columns=df.columns))\n",
      "C:\\Users\\Huang\\OneDrive - Università Commerciale Luigi Bocconi (1)\\python\\reprotin\\code\\do_analysis\\tabprintin\\beautify.py:345: FutureWarning: The frame.append method is deprecated and will be removed from pandas in a future version. Use pandas.concat instead.\n",
      "  options = options.append(pd.DataFrame([r],index=[value]))\n",
      "C:\\Users\\Huang\\OneDrive - Università Commerciale Luigi Bocconi (1)\\python\\reprotin\\code\\do_analysis\\tabprintin\\beautify.py:345: FutureWarning: The frame.append method is deprecated and will be removed from pandas in a future version. Use pandas.concat instead.\n",
      "  options = options.append(pd.DataFrame([r],index=[value]))\n",
      "C:\\Users\\Huang\\OneDrive - Università Commerciale Luigi Bocconi (1)\\python\\reprotin\\code\\do_analysis\\tabprintin\\beautify.py:345: FutureWarning: The frame.append method is deprecated and will be removed from pandas in a future version. Use pandas.concat instead.\n",
      "  options = options.append(pd.DataFrame([r],index=[value]))\n"
     ]
    }
   ],
   "source": [
    "prova = pystout(models=[reg1],\n",
    "                # stars={.1:'*',.05:'**',.01:'***'},\n",
    "                varlabels={'ebit_avgta': 'Return on assets', \n",
    "                           'ln_ta': 'Ln(Total assets)', \n",
    "                           'mtb': 'Market to book', \n",
    "                           'sales_growth': 'Sales growth'},\n",
    "                addnotes=['$^{*}$p$<$0.1; $^{**}$p$<$0.05; $^{***}$p$<$0.01'],\n",
    "                digits=3,\n",
    "                modstat={'nobs':'Obs','rsquared_adj':'Adj. R\\sym{2}','fvalue':'F-stat'},\n",
    "                addrows={'nobs': ['ciao']},\n",
    "                mgroups={'Group 1': 1}\n",
    "               )\n",
    "print(prova)"
   ]
  }
 ],
 "metadata": {
  "kernelspec": {
   "display_name": "env",
   "language": "python",
   "name": "env"
  },
  "language_info": {
   "codemirror_mode": {
    "name": "ipython",
    "version": 3
   },
   "file_extension": ".py",
   "mimetype": "text/x-python",
   "name": "python",
   "nbconvert_exporter": "python",
   "pygments_lexer": "ipython3",
   "version": "3.10.5"
  }
 },
 "nbformat": 4,
 "nbformat_minor": 5
}
