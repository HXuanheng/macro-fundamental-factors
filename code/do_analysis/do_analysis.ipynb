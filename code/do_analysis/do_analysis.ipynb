{
 "cells": [
  {
   "cell_type": "code",
   "execution_count": 1,
   "id": "c8130ac7-479c-4e2a-b49d-960773ada07d",
   "metadata": {},
   "outputs": [],
   "source": [
    "resource = \"../../data/generated/\"\n",
    "results = \"../../results/\""
   ]
  },
  {
   "cell_type": "code",
   "execution_count": 2,
   "id": "69dba9df-277d-4c64-8e8c-be8345b7e1b4",
   "metadata": {},
   "outputs": [],
   "source": [
    "import pandas as pd\n",
    "import numpy as np\n",
    "from scipy.stats.mstats import winsorize\n",
    "from linearmodels.panel import PanelOLS, compare\n",
    "import statsmodels.formula.api as smf\n",
    "# from statsmodels.iolib.summary2 import summary_col\n",
    "# from pystout import pystout\n",
    "from stargazer.stargazer import Stargazer\n",
    "from tabprintin.beautify import *"
   ]
  },
  {
   "cell_type": "code",
   "execution_count": 3,
   "id": "206e6b1f-e4d2-4e07-b77d-a721e93db770",
   "metadata": {},
   "outputs": [],
   "source": [
    "smp = pd.read_csv(resource + \"acc_us_sample.csv\")\n",
    "smp.replace([np.inf, -np.inf], np.nan, inplace=True)\n",
    "smp_da = smp[['gvkey', 'fyear', 'ff12_ind', 'mj_da', 'dd_da', 'ln_ta', \n",
    "              'ln_mktcap', 'mtb', 'ebit_avgta', 'sales_growth']]\n",
    "smp_da = smp_da.dropna(subset=['fyear', 'mj_da', 'dd_da', 'ln_ta', 'ln_mktcap', 'mtb', 'ebit_avgta', 'sales_growth'])\n",
    "\n",
    "list_to_win = ['mj_da', 'dd_da', 'ln_ta', 'ln_mktcap', 'mtb', 'ebit_avgta', 'sales_growth']\n",
    "for i in list_to_win:\n",
    "    smp_da[i] = smp_da.groupby('fyear')[i].transform(lambda x: winsorize(x,limits=[.01,.01]))"
   ]
  },
  {
   "cell_type": "code",
   "execution_count": 11,
   "id": "5c75e88a-73d8-44a2-a2c0-9458bdc39eff",
   "metadata": {},
   "outputs": [],
   "source": [
    "smp_da.to_csv('smp_da.csv')"
   ]
  },
  {
   "cell_type": "markdown",
   "id": "46dc3912-f293-4741-a12c-ebf34e0cee44",
   "metadata": {},
   "source": [
    "# Summary statistics"
   ]
  },
  {
   "cell_type": "code",
   "execution_count": 4,
   "id": "b77378e9-b37f-4d43-92a2-6efbcfadac25",
   "metadata": {},
   "outputs": [
    {
     "name": "stdout",
     "output_type": "stream",
     "text": [
      "\\begin{tabular}{lrrrrrrrr}\n",
      " & N & Mean & Std. dev. & Min. & 25\\% & Median & 75\\% & Max. \\\\\n",
      "Modified Jones DA & 57,163 & 0.006 & 0.237 & -1.927 & -0.047 & 0.017 & 0.088 & 1.027 \\\\\n",
      "Dechow and Dichev DA & 57,163 & 0.001 & 0.096 & -0.490 & -0.032 & 0.002 & 0.038 & 0.385 \\\\\n",
      "Ln(Total assets) & 57,163 & 4.568 & 2.403 & -2.207 & 2.871 & 4.466 & 6.219 & 11.770 \\\\\n",
      "Ln(Market capitalization) & 57,163 & 4.558 & 2.421 & -1.552 & 2.794 & 4.439 & 6.284 & 11.924 \\\\\n",
      "Market to book & 57,163 & 2.786 & 8.532 & -125.299 & 0.929 & 1.801 & 3.485 & 123.185 \\\\\n",
      "Return on assets & 57,163 & -0.125 & 0.643 & -12.152 & -0.104 & 0.042 & 0.088 & 0.897 \\\\\n",
      "Sales growth & 57,163 & 1.013 & 0.471 & -4.642 & 0.988 & 1.013 & 1.055 & 5.902 \\\\\n",
      "\\end{tabular}\n",
      "\n"
     ]
    },
    {
     "data": {
      "text/html": [
       "<div>\n",
       "<style scoped>\n",
       "    .dataframe tbody tr th:only-of-type {\n",
       "        vertical-align: middle;\n",
       "    }\n",
       "\n",
       "    .dataframe tbody tr th {\n",
       "        vertical-align: top;\n",
       "    }\n",
       "\n",
       "    .dataframe thead th {\n",
       "        text-align: right;\n",
       "    }\n",
       "</style>\n",
       "<table border=\"1\" class=\"dataframe\">\n",
       "  <thead>\n",
       "    <tr style=\"text-align: right;\">\n",
       "      <th></th>\n",
       "      <th>N</th>\n",
       "      <th>Mean</th>\n",
       "      <th>Std. dev.</th>\n",
       "      <th>Min.</th>\n",
       "      <th>25\\%</th>\n",
       "      <th>Median</th>\n",
       "      <th>75\\%</th>\n",
       "      <th>Max.</th>\n",
       "    </tr>\n",
       "  </thead>\n",
       "  <tbody>\n",
       "    <tr>\n",
       "      <th>Modified Jones DA</th>\n",
       "      <td>57163</td>\n",
       "      <td>0.006109</td>\n",
       "      <td>0.237157</td>\n",
       "      <td>-1.926686</td>\n",
       "      <td>-0.047093</td>\n",
       "      <td>0.017298</td>\n",
       "      <td>0.087554</td>\n",
       "      <td>1.026649</td>\n",
       "    </tr>\n",
       "    <tr>\n",
       "      <th>Dechow and Dichev DA</th>\n",
       "      <td>57163</td>\n",
       "      <td>0.001120</td>\n",
       "      <td>0.095979</td>\n",
       "      <td>-0.489783</td>\n",
       "      <td>-0.032441</td>\n",
       "      <td>0.001534</td>\n",
       "      <td>0.038344</td>\n",
       "      <td>0.385274</td>\n",
       "    </tr>\n",
       "    <tr>\n",
       "      <th>Ln(Total assets)</th>\n",
       "      <td>57163</td>\n",
       "      <td>4.568192</td>\n",
       "      <td>2.402711</td>\n",
       "      <td>-2.207275</td>\n",
       "      <td>2.871331</td>\n",
       "      <td>4.466322</td>\n",
       "      <td>6.219185</td>\n",
       "      <td>11.770022</td>\n",
       "    </tr>\n",
       "    <tr>\n",
       "      <th>Ln(Market capitalization)</th>\n",
       "      <td>57163</td>\n",
       "      <td>4.557544</td>\n",
       "      <td>2.421399</td>\n",
       "      <td>-1.552481</td>\n",
       "      <td>2.793788</td>\n",
       "      <td>4.439238</td>\n",
       "      <td>6.283627</td>\n",
       "      <td>11.924330</td>\n",
       "    </tr>\n",
       "    <tr>\n",
       "      <th>Market to book</th>\n",
       "      <td>57163</td>\n",
       "      <td>2.786015</td>\n",
       "      <td>8.532028</td>\n",
       "      <td>-125.299106</td>\n",
       "      <td>0.928928</td>\n",
       "      <td>1.801402</td>\n",
       "      <td>3.485184</td>\n",
       "      <td>123.184914</td>\n",
       "    </tr>\n",
       "    <tr>\n",
       "      <th>Return on assets</th>\n",
       "      <td>57163</td>\n",
       "      <td>-0.125160</td>\n",
       "      <td>0.642789</td>\n",
       "      <td>-12.152318</td>\n",
       "      <td>-0.104129</td>\n",
       "      <td>0.041673</td>\n",
       "      <td>0.088155</td>\n",
       "      <td>0.896939</td>\n",
       "    </tr>\n",
       "    <tr>\n",
       "      <th>Sales growth</th>\n",
       "      <td>57163</td>\n",
       "      <td>1.012775</td>\n",
       "      <td>0.471146</td>\n",
       "      <td>-4.642257</td>\n",
       "      <td>0.987810</td>\n",
       "      <td>1.013323</td>\n",
       "      <td>1.055299</td>\n",
       "      <td>5.902028</td>\n",
       "    </tr>\n",
       "  </tbody>\n",
       "</table>\n",
       "</div>"
      ],
      "text/plain": [
       "                               N      Mean  Std. dev.        Min.      25\\%  \\\n",
       "Modified Jones DA          57163  0.006109   0.237157   -1.926686 -0.047093   \n",
       "Dechow and Dichev DA       57163  0.001120   0.095979   -0.489783 -0.032441   \n",
       "Ln(Total assets)           57163  4.568192   2.402711   -2.207275  2.871331   \n",
       "Ln(Market capitalization)  57163  4.557544   2.421399   -1.552481  2.793788   \n",
       "Market to book             57163  2.786015   8.532028 -125.299106  0.928928   \n",
       "Return on assets           57163 -0.125160   0.642789  -12.152318 -0.104129   \n",
       "Sales growth               57163  1.012775   0.471146   -4.642257  0.987810   \n",
       "\n",
       "                             Median      75\\%        Max.  \n",
       "Modified Jones DA          0.017298  0.087554    1.026649  \n",
       "Dechow and Dichev DA       0.001534  0.038344    0.385274  \n",
       "Ln(Total assets)           4.466322  6.219185   11.770022  \n",
       "Ln(Market capitalization)  4.439238  6.283627   11.924330  \n",
       "Market to book             1.801402  3.485184  123.184914  \n",
       "Return on assets           0.041673  0.088155    0.896939  \n",
       "Sales growth               1.013323  1.055299    5.902028  "
      ]
     },
     "execution_count": 4,
     "metadata": {},
     "output_type": "execute_result"
    }
   ],
   "source": [
    "var_name = (['Modified Jones DA', \n",
    "             'Dechow and Dichev DA', \n",
    "             'Ln(Total assets)', \n",
    "             'Ln(Market capitalization)',\n",
    "             'Market to book', \n",
    "             'Return on assets', \n",
    "             'Sales growth'])\n",
    "\n",
    "stat_name = (['N', \n",
    "             'Mean', \n",
    "             'Std. dev.', \n",
    "             'Min.', \n",
    "             '25\\%', \n",
    "             'Median',\n",
    "             '75\\%',\n",
    "             'Max.'])\n",
    "\n",
    "summary_stats = smp_da[['mj_da', 'dd_da', 'ln_ta', 'ln_mktcap', 'mtb', 'ebit_avgta', 'sales_growth']].describe().T\n",
    "\n",
    "summary_stats.index = var_name\n",
    "summary_stats.columns = stat_name\n",
    "\n",
    "summary_stats.N = summary_stats.N.astype(int)\n",
    "\n",
    "print(summary_stats.style.format(decimal='.', thousands=',', precision=3).to_latex())\n",
    "summary_stats"
   ]
  },
  {
   "cell_type": "markdown",
   "id": "9ee402ca-75bf-4be4-88eb-fa2292cf67fe",
   "metadata": {},
   "source": [
    "# Regression"
   ]
  },
  {
   "cell_type": "code",
   "execution_count": 5,
   "id": "4fb43ea2-c211-4548-a433-b371c2abcc26",
   "metadata": {},
   "outputs": [],
   "source": [
    "mod1 = PanelOLS.from_formula('mj_da ~ EntityEffects + TimeEffects + ln_ta + mtb + ebit_avgta + sales_growth',\n",
    "                            data=smp_da.set_index(['gvkey', 'fyear'])\n",
    "                           )\n",
    "reg1 = mod1.fit(cov_type='clustered', cluster_entity=True, cluster_time=True)\n",
    "\n",
    "mod2 = PanelOLS.from_formula('dd_da ~ EntityEffects + TimeEffects + ln_ta + mtb + ebit_avgta + sales_growth',\n",
    "                            data=smp_da.set_index(['gvkey', 'fyear'])\n",
    "                           )\n",
    "reg2 = mod2.fit(cov_type='clustered', cluster_entity=True, cluster_time=True)"
   ]
  },
  {
   "cell_type": "code",
   "execution_count": 6,
   "id": "4918ef99-aeb4-4b14-be5c-f1748e13803e",
   "metadata": {},
   "outputs": [
    {
     "name": "stdout",
     "output_type": "stream",
     "text": [
      "                              Parameter Estimates                               \n",
      "================================================================================\n",
      "              Parameter  Std. Err.     T-stat    P-value    Lower CI    Upper CI\n",
      "--------------------------------------------------------------------------------\n",
      "ebit_avgta       0.2322     0.0258     8.9914     0.0000      0.1816      0.2828\n",
      "ln_ta           -0.0410     0.0052    -7.9027     0.0000     -0.0512     -0.0308\n",
      "mtb           2.526e-05     0.0002     0.1172     0.9067     -0.0004      0.0004\n",
      "sales_growth     0.0098     0.0043     2.2714     0.0231      0.0013      0.0182\n",
      "================================================================================                               Parameter Estimates                               \n",
      "================================================================================\n",
      "              Parameter  Std. Err.     T-stat    P-value    Lower CI    Upper CI\n",
      "--------------------------------------------------------------------------------\n",
      "ebit_avgta       0.0492     0.0079     6.2288     0.0000      0.0337      0.0647\n",
      "ln_ta            0.0035     0.0012     2.9030     0.0037      0.0011      0.0059\n",
      "mtb              0.0005  8.469e-05     5.9695     0.0000      0.0003      0.0007\n",
      "sales_growth     0.0101     0.0016     6.2970     0.0000      0.0069      0.0132\n",
      "================================================================================\n"
     ]
    }
   ],
   "source": [
    "print(reg1.summary.tables[1],reg2.summary.tables[1])"
   ]
  },
  {
   "cell_type": "code",
   "execution_count": 7,
   "id": "1ac8ecc5-7485-4bbb-8632-e29090ea3270",
   "metadata": {},
   "outputs": [
    {
     "name": "stdout",
     "output_type": "stream",
     "text": [
      "                  Model Comparison                  \n",
      "====================================================\n",
      "                          model_A_name  model_B_name\n",
      "----------------------------------------------------\n",
      "Dep. Variable                    mj_da         dd_da\n",
      "Estimator                     PanelOLS      PanelOLS\n",
      "No. Observations                 57163         57163\n",
      "Cov. Est.                    Clustered     Clustered\n",
      "R-squared                       0.1890        0.0590\n",
      "R-Squared (Within)              0.1752        0.0587\n",
      "R-Squared (Between)            -0.6533       -0.0607\n",
      "R-Squared (Overall)            -0.6454       -0.0257\n",
      "F-statistic                     2811.9        756.65\n",
      "P-value (F-stat)                0.0000        0.0000\n",
      "=====================     ============   ===========\n",
      "ebit_avgta                   0.2322***     0.0492***\n",
      "                              (8.9914)      (6.2288)\n",
      "ln_ta                       -0.0410***     0.0035***\n",
      "                             (-7.9027)      (2.9030)\n",
      "mtb                          2.526e-05     0.0005***\n",
      "                              (0.1172)      (5.9695)\n",
      "sales_growth                  0.0098**     0.0101***\n",
      "                              (2.2714)      (6.2970)\n",
      "======================= ============== =============\n",
      "Effects                         Entity        Entity\n",
      "                                  Time          Time\n",
      "----------------------------------------------------\n",
      "\n",
      "T-stats reported in parentheses\n"
     ]
    }
   ],
   "source": [
    "print(compare({'model_A_name': reg1, 'model_B_name': reg2 }, stars = True))"
   ]
  },
  {
   "cell_type": "code",
   "execution_count": 8,
   "id": "9f452261-63b2-4713-adce-1e6a96c8ce6d",
   "metadata": {},
   "outputs": [],
   "source": [
    "prova3 = smf.ols('dd_da ~ ln_ta + mtb + ebit_avgta + sales_growth',data=smp_da).fit()"
   ]
  },
  {
   "cell_type": "code",
   "execution_count": 9,
   "id": "91af33ac-4f4e-46c4-896a-6f2fda8369bc",
   "metadata": {},
   "outputs": [
    {
     "name": "stdout",
     "output_type": "stream",
     "text": [
      "\n",
      "\\hline\n",
      "Obs & 57163 & 57163 & 57163 \\\\\n",
      "Adj. R\\sym{2} &  &  & 0.054 \\\\\n",
      "F-stat & 2811.931 & 756.648 & 812.885 \\\\\n",
      "\\hline\\hline\n",
      "\\multicolumn{4}{l}{\\footnotesize Here is a little note}\\vspace{-.25em} \\\\\n",
      "\\multicolumn{4}{l}{\\footnotesize And another one}\n",
      "\\end{tabular}\n",
      "}\n"
     ]
    },
    {
     "name": "stderr",
     "output_type": "stream",
     "text": [
      "C:\\Users\\Huang\\OneDrive - Università Commerciale Luigi Bocconi (1)\\python\\reprotin\\code\\do_analysis\\tabprintin\\beautify.py:376: FutureWarning: The frame.append method is deprecated and will be removed from pandas in a future version. Use pandas.concat instead.\n",
      "  options = options.append(pd.DataFrame([r],index=[value]))\n",
      "C:\\Users\\Huang\\OneDrive - Università Commerciale Luigi Bocconi (1)\\python\\reprotin\\code\\do_analysis\\tabprintin\\beautify.py:376: FutureWarning: The frame.append method is deprecated and will be removed from pandas in a future version. Use pandas.concat instead.\n",
      "  options = options.append(pd.DataFrame([r],index=[value]))\n",
      "C:\\Users\\Huang\\OneDrive - Università Commerciale Luigi Bocconi (1)\\python\\reprotin\\code\\do_analysis\\tabprintin\\beautify.py:376: FutureWarning: The frame.append method is deprecated and will be removed from pandas in a future version. Use pandas.concat instead.\n",
      "  options = options.append(pd.DataFrame([r],index=[value]))\n"
     ]
    }
   ],
   "source": [
    "prova = pystout(models=[reg1,reg2,prova3],\n",
    "        file='test_table.tex',\n",
    "        addnotes=['Here is a little note','And another one'],\n",
    "        digits=3,\n",
    "        modstat={'nobs':'Obs','rsquared_adj':'Adj. R\\sym{2}','fvalue':'F-stat'}\n",
    "        )\n",
    "print(prova)"
   ]
  },
  {
   "cell_type": "code",
   "execution_count": 10,
   "id": "c012d241-fd46-4179-8294-60b27f15a351",
   "metadata": {},
   "outputs": [
    {
     "data": {
      "text/plain": [
       "'\\n\\\\hline\\nObs & 57163 & 57163 & 57163 \\\\\\\\\\nAdj. R\\\\sym{2} &  &  & 0.054 \\\\\\\\\\nF-stat & 2811.931 & 756.648 & 812.885 \\\\\\\\\\n\\\\hline\\\\hline\\n\\\\multicolumn{4}{l}{\\\\footnotesize Here is a little note}\\\\vspace{-.25em} \\\\\\\\\\n\\\\multicolumn{4}{l}{\\\\footnotesize And another one}\\n\\\\end{tabular}\\n}'"
      ]
     },
     "execution_count": 10,
     "metadata": {},
     "output_type": "execute_result"
    }
   ],
   "source": [
    "prova"
   ]
  }
 ],
 "metadata": {
  "kernelspec": {
   "display_name": "env",
   "language": "python",
   "name": "env"
  },
  "language_info": {
   "codemirror_mode": {
    "name": "ipython",
    "version": 3
   },
   "file_extension": ".py",
   "mimetype": "text/x-python",
   "name": "python",
   "nbconvert_exporter": "python",
   "pygments_lexer": "ipython3",
   "version": "3.10.5"
  }
 },
 "nbformat": 4,
 "nbformat_minor": 5
}
