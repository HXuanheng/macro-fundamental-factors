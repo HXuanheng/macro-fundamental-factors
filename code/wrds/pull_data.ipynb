{
 "cells": [
  {
   "cell_type": "code",
   "execution_count": 1,
   "metadata": {},
   "outputs": [],
   "source": [
    "# import pandas as pd\n",
    "import wrds\n",
    "from parameters import *\n",
    "from utils import *"
   ]
  },
  {
   "cell_type": "code",
   "execution_count": 10,
   "metadata": {},
   "outputs": [],
   "source": [
    "# File position\n",
    "resources=\"code/wrds/\"\n",
    "results=\"../../data/pulled/\""
   ]
  },
  {
   "cell_type": "code",
   "execution_count": null,
   "metadata": {},
   "outputs": [],
   "source": [
    "###################\n",
    "# Connect to WRDS #\n",
    "###################\n",
    "conn=wrds.Connection(wrds_username='xuanhenghuang')"
   ]
  },
  {
   "cell_type": "code",
   "execution_count": null,
   "metadata": {},
   "outputs": [],
   "source": [
    "###################\n",
    "# Compustat Block #\n",
    "###################\n",
    "\n",
    "\"\"\" \n",
    "at:  assets - total\n",
    "pstkl: Preferred Stock Liquidating Value \n",
    "txditc: Deferred Taxes and Investment Tax Credit \n",
    "pstkrv: Preferred Stock Redemption Value\n",
    "seq: Stockholders' Equity - Total\n",
    "pstk:  Preferred/Preference Stock (Capital) - Total \n",
    "dlc: Debt in Current Liabilities - Total\n",
    "dltt: Long-Term Debt - Total\n",
    "indfmt='INDL': This condition filters the data based on the industry format being used.  \n",
    "                'INDL' indicates industry such as manufacturing, retail, construction and other \n",
    "                commercial operations other than financial services\n",
    "datafmt='STD': This condition filters the data to include only companies that report using \n",
    "                the standard data format.\n",
    "popsrc='D' : This condition filters the data to include only companies that report \n",
    "                using domestic accounting standards.\n",
    "consol='C' : This condition filters the data to only include consolidated financial statements\n",
    "\"\"\"\n",
    "\n",
    "comp = conn.raw_sql(f\"\"\"\n",
    "                    select gvkey, datadate, at, pstkl, txditc,\n",
    "                    pstkrv, seq, pstk, dlc, dltt\n",
    "                    from comp.funda\n",
    "                    where indfmt='INDL' \n",
    "                    and datafmt='STD'\n",
    "                    and popsrc='D'\n",
    "                    and consol='C'\n",
    "                    and datadate between '{start_date}' and '{end_date}'\n",
    "                    \"\"\", date_cols=['datadate'])"
   ]
  },
  {
   "cell_type": "code",
   "execution_count": null,
   "metadata": {},
   "outputs": [],
   "source": [
    "comp.to_csv(results + 'wrds_comp.csv', index=False)"
   ]
  },
  {
   "cell_type": "code",
   "execution_count": null,
   "metadata": {},
   "outputs": [],
   "source": [
    "######################\n",
    "# CRSP Block Monthly #\n",
    "######################\n",
    "# sql similar to crspmerge macro\n",
    "\n",
    "\"\"\" \n",
    "exchcd: Exchange Code - code indicating the exchange on which a security is listed. \n",
    "        Normal exchange codes are respectively 1,2, and 3 for NYSE, AMEX and the Nasdaq Stock MarketSM.\n",
    "            1\tNew York Stock Exchange\n",
    "            2\tAmerican Stock Exchange\n",
    "            3\tThe Nasdaq Stock Market(SM)\n",
    "shrcd: Share Code - two-digit code describing the type of shares traded\n",
    "ret: Holding Period Return\n",
    "retx: Holding Period Return without Dividends\n",
    "shrout: Number of Shares Outstanding\n",
    "prc: Price\n",
    "\"\"\"\n",
    "\n",
    "crsp_m = conn.raw_sql(f\"\"\"\n",
    "                      select a.permno, a.permco, a.date, b.shrcd, b.exchcd,\n",
    "                      a.ret, a.retx, a.shrout, a.prc\n",
    "                      from crsp.msf as a\n",
    "                      left join crsp.msenames as b\n",
    "                      on a.permno=b.permno\n",
    "                      and b.namedt<=a.date\n",
    "                      and a.date<=b.nameendt\n",
    "                      where a.date between '{start_date}' and '{end_date}'\n",
    "                      and b.exchcd between 1 and 3\n",
    "                      \"\"\", date_cols=['date']) "
   ]
  },
  {
   "cell_type": "code",
   "execution_count": null,
   "metadata": {},
   "outputs": [],
   "source": [
    "crsp_m.to_csv(results + 'wrds_crsp_m.csv', index=False)"
   ]
  },
  {
   "cell_type": "code",
   "execution_count": null,
   "metadata": {},
   "outputs": [],
   "source": [
    "# add delisting return\n",
    "\"\"\" \n",
    "dlret: Delisting Return\n",
    "dlstdt: Delisting Date\n",
    "\"\"\"\n",
    "dlret = conn.raw_sql(\"\"\"\n",
    "                     select permno, dlret, dlstdt \n",
    "                     from crsp.msedelist\n",
    "                     \"\"\", date_cols=['dlstdt'])"
   ]
  },
  {
   "cell_type": "code",
   "execution_count": null,
   "metadata": {},
   "outputs": [],
   "source": [
    "dlret.to_csv(results + 'wrds_dlret.csv', index=False)"
   ]
  },
  {
   "cell_type": "code",
   "execution_count": null,
   "metadata": {},
   "outputs": [],
   "source": [
    "#######################\n",
    "# CCM Block           #\n",
    "#######################\n",
    "\"\"\" \n",
    "linktype: Link Type - 2-character code providing additional detail on the usage of the link data available\n",
    "linkprim: Primary Link Marker\n",
    "linkdt: First Effective Date of Link - date marking the first effective date of the current link\n",
    "linkenddt: Last Effective Date of Link -  date marking the last date where the link is valid\n",
    "\"\"\"\n",
    "ccm=conn.raw_sql(\"\"\"\n",
    "                  select gvkey, lpermno as permno, linktype, linkprim, \n",
    "                  linkdt, linkenddt\n",
    "                  from crsp.ccmxpf_linktable\n",
    "                  where substr(linktype,1,1)='L'\n",
    "                  and (linkprim ='C' or linkprim='P')\n",
    "                  \"\"\", date_cols=['linkdt', 'linkenddt'])"
   ]
  },
  {
   "cell_type": "code",
   "execution_count": null,
   "metadata": {},
   "outputs": [],
   "source": [
    "ccm.to_csv(results + 'wrds_ccm.csv', index=False)"
   ]
  },
  {
   "cell_type": "code",
   "execution_count": null,
   "metadata": {},
   "outputs": [],
   "source": [
    "######################\n",
    "# CRSP Block Daily   #\n",
    "######################\n",
    "# sql similar to crspmerge macro\n",
    "\n",
    "\"\"\" \n",
    "exchcd: Exchange Code - code indicating the exchange on which a security is listed. \n",
    "        Normal exchange codes are respectively 1,2, and 3 for NYSE, AMEX and the Nasdaq Stock MarketSM.\n",
    "            1\tNew York Stock Exchange\n",
    "            2\tAmerican Stock Exchange\n",
    "            3\tThe Nasdaq Stock Market(SM)\n",
    "shrcd: Share Code - two-digit code describing the type of shares traded\n",
    "ret: Holding Period Return\n",
    "retx: Holding Period Return without Dividends\n",
    "shrout: Number of Shares Outstanding\n",
    "prc: Price\n",
    "\"\"\"\n",
    "\n",
    "# where a.date between '01/01/1980' and '12/31/1990'\n",
    "years = split_years(f'{start_date}',f'{end_date}')\n",
    "for year in years:\n",
    "    crsp_d = conn.raw_sql(f\"\"\"\n",
    "                        select permno, permco, date, shrout, prc\n",
    "                        from crsp.dsf\n",
    "                        where date between '{year[0]}' and '{year[1]}'\n",
    "                        \"\"\", date_cols=['date']) \n",
    "    crsp_d.to_csv(results + f'wrds_crsp_d_{year[0][8:]}.csv', index=False)"
   ]
  },
  {
   "cell_type": "code",
   "execution_count": 8,
   "metadata": {},
   "outputs": [
    {
     "ename": "NameError",
     "evalue": "name 'conn' is not defined",
     "output_type": "error",
     "traceback": [
      "\u001b[1;31m---------------------------------------------------------------------------\u001b[0m",
      "\u001b[1;31mNameError\u001b[0m                                 Traceback (most recent call last)",
      "Cell \u001b[1;32mIn[8], line 1\u001b[0m\n\u001b[1;32m----> 1\u001b[0m conn\u001b[39m.\u001b[39mclose()\n",
      "\u001b[1;31mNameError\u001b[0m: name 'conn' is not defined"
     ]
    }
   ],
   "source": [
    "conn.close()"
   ]
  }
 ],
 "metadata": {
  "kernelspec": {
   "display_name": "Python 3",
   "language": "python",
   "name": "python3"
  },
  "language_info": {
   "codemirror_mode": {
    "name": "ipython",
    "version": 3
   },
   "file_extension": ".py",
   "mimetype": "text/x-python",
   "name": "python",
   "nbconvert_exporter": "python",
   "pygments_lexer": "ipython3",
   "version": "3.11.1"
  }
 },
 "nbformat": 4,
 "nbformat_minor": 4
}
