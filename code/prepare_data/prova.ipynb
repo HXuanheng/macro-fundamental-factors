{
 "cells": [
  {
   "cell_type": "code",
   "execution_count": 2,
   "metadata": {},
   "outputs": [],
   "source": [
    "import pandas as pd\n",
    "import numpy as np\n",
    "import datetime as dt\n",
    "from scipy.stats import norm\n",
    "from pandas.tseries.offsets import *\n",
    "from scipy import optimize\n",
    "from tqdm import tqdm\n",
    "\n",
    "\n",
    "tqdm.pandas()"
   ]
  },
  {
   "cell_type": "code",
   "execution_count": 3,
   "metadata": {},
   "outputs": [],
   "source": [
    "# File position\n",
    "# resource = '../../data/pulled/'\n",
    "resource = '../../data/generated/'\n",
    "results = '../../data/generated/'"
   ]
  },
  {
   "cell_type": "code",
   "execution_count": 23,
   "metadata": {},
   "outputs": [],
   "source": [
    "def concat_dataframes(*dataframes):\n",
    "    result = pd.concat(dataframes, ignore_index=True)\n",
    "    return result\n",
    "\n",
    "\n",
    "p1980 = pd.read_csv(resource + 'p_def_1980.csv', parse_dates=['date'])\n",
    "p1981 = pd.read_csv(resource + 'p_def_1981.csv', parse_dates=['date'])\n",
    "p1986 = pd.read_csv(resource + 'p_def_1986.csv', parse_dates=['date'])\n",
    "p1987 = pd.read_csv(resource + 'p_def_1987.csv', parse_dates=['date'])\n",
    "p1988 = pd.read_csv(resource + 'p_def_1988.csv', parse_dates=['date'])\n",
    "p1989 = pd.read_csv(resource + 'p_def_1989.csv', parse_dates=['date'])\n",
    "p1990 = pd.read_csv(resource + 'p_def_1990.csv', parse_dates=['date'])\n",
    "\n",
    "results=concat_dataframes(p1980,p1981,p1986,p1987,p1988,p1989,p1990)\n",
    "\n",
    "results['month']=results['date'].dt.month\n",
    "results['year']=results['date'].dt.year\n",
    "\n",
    "results = results.groupby(['year','month'])['p_def'].mean().reset_index()\n",
    "results['p_surv'] = 1 - results['p_def']\n",
    "# results['lagged_p_surv'] = results['p_surv'].shift(1)\n",
    "results['dsv'] = (results['p_surv'] - results['p_surv'].shift(1)) *100"
   ]
  },
  {
   "cell_type": "code",
   "execution_count": 33,
   "metadata": {},
   "outputs": [],
   "source": [
    "dsv = pd.read_excel('../../data/external/DSV.xls', header=None)\n",
    "dsv = dsv.set_axis(['date', 'dsv'], axis=1)\n",
    "dsv['date'] = pd.to_datetime(dsv['date'].astype(str), format='%Y%m') + MonthEnd()"
   ]
  },
  {
   "cell_type": "code",
   "execution_count": 6,
   "metadata": {},
   "outputs": [],
   "source": [
    "vass_default = pd.read_csv('../../data/external/defaultdataset.txt', header=None, delimiter='\\s+')\n",
    "vass_default = vass_default.set_axis(['year', 'month', 'permno', 'default_probability', 'log_V_assets', 'volatility_assets'], axis=1)\n",
    "\n",
    "perm_list = [10031,54594,29591,17057] ########################################\n",
    "vass_default = vass_default[vass_default['permno'].isin(perm_list)] ##############\n",
    "\n",
    "# vass_default = vass_default.groupby(['year','month'])['default_probability'].mean().reset_index()\n",
    "# vass_default['agg_surv'] = 1 - vass_default['default_probability']\n",
    "# vass_default['dsv'] = (vass_default['agg_surv'] - vass_default['agg_surv'].shift(1))*100\n"
   ]
  },
  {
   "cell_type": "code",
   "execution_count": 10,
   "metadata": {},
   "outputs": [],
   "source": [
    "prova_default = pd.read_csv(resource + 'prova_default.csv', parse_dates=['date'])\n",
    "prova_default['log_Va'] = np.log(prova_default['Va'])\n",
    "prova_default = prova_default[['permno','date','log_Va','sigma_a','p_def']]"
   ]
  },
  {
   "cell_type": "code",
   "execution_count": 34,
   "metadata": {},
   "outputs": [
    {
     "name": "stdout",
     "output_type": "stream",
     "text": [
      "Pearsons correlation: 0.685\n"
     ]
    }
   ],
   "source": [
    "from scipy.stats import pearsonr\n",
    "\n",
    "results = results[(results['year'] >= 1986) & (results['year'] <= 1990)]\n",
    "\n",
    "results2 = dsv[(dsv['date'].dt.year >= 1986) & (dsv['date'].dt.year <= 1990)]\n",
    "\n",
    "corr, _ = pearsonr(results['dsv'], results2['dsv'])\n",
    "print('Pearsons correlation: %.3f' % corr)"
   ]
  }
 ],
 "metadata": {
  "kernelspec": {
   "display_name": ".env",
   "language": "python",
   "name": "python3"
  },
  "language_info": {
   "codemirror_mode": {
    "name": "ipython",
    "version": 3
   },
   "file_extension": ".py",
   "mimetype": "text/x-python",
   "name": "python",
   "nbconvert_exporter": "python",
   "pygments_lexer": "ipython3",
   "version": "3.11.1"
  },
  "orig_nbformat": 4
 },
 "nbformat": 4,
 "nbformat_minor": 2
}
