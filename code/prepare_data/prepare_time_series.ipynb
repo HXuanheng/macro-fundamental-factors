{
 "cells": [
  {
   "cell_type": "code",
   "execution_count": 49,
   "metadata": {},
   "outputs": [],
   "source": [
    "import pandas as pd\n",
    "from pandas.tseries.offsets import *\n",
    "import numpy as np\n",
    "import glob"
   ]
  },
  {
   "cell_type": "code",
   "execution_count": 50,
   "metadata": {},
   "outputs": [],
   "source": [
    "# File position\n",
    "resource = '../../data/'\n",
    "results = '../../data/generated/'"
   ]
  },
  {
   "cell_type": "code",
   "execution_count": 51,
   "metadata": {},
   "outputs": [],
   "source": [
    "# Load spreadsheet from Datastream\n",
    "xl = pd.ExcelFile(resource +'external/datastream.xlsx')\n",
    "\n",
    "# Load industrial production\n",
    "ind_prod = xl.parse('ind_prod', skiprows=2, parse_dates=[0])\n",
    "ind_prod = ind_prod.set_axis(['date', 'ind_prod'], axis=1)\n",
    "ind_prod['date'] = ind_prod['date'] + MonthEnd(0)\n",
    "\n",
    "# Load inflation \n",
    "# cpi = xl.parse('cpi', skiprows=2, parse_dates=[0])\n",
    "# cpi = cpi.set_axis(['date', 'cpi'], axis=1)\n",
    "# cpi['date'] = cpi['date'] + MonthEnd(0)\n",
    "\n",
    "# Load gold index\n",
    "gold = xl.parse('gold', skiprows=2, parse_dates=[0])\n",
    "gold = gold.set_axis(['date', 'gold'], axis=1)\n",
    "gold['month'] = gold['date'].dt.to_period('M')\n",
    "gold = gold.groupby('month').last().reset_index(drop=True)\n",
    "gold['date'] = gold['date'] + MonthEnd(0)\n",
    "\n",
    "# Merge\n",
    "datastream = pd.merge(ind_prod, gold, on='date', how='outer')\n",
    "# ts = pd.merge(ts, cpi, on='date', how='outer')"
   ]
  },
  {
   "cell_type": "code",
   "execution_count": 52,
   "metadata": {},
   "outputs": [],
   "source": [
    "# Load spreadsheet from Shiller's website\n",
    "xl = pd.ExcelFile(resource +'external/ie_data.xls')\n",
    "ie_m = xl.parse('Data', skiprows=7)\n",
    "ie_m = ie_m[['Date','P','D','CPI']]\n",
    "ie_m = ie_m.set_axis(['date','sp_price','sp_div','cpi'], axis=1)\n",
    "ie_m['date'] =  ie_m['date'].apply(lambda x: f'{x:.2f}')\n",
    "ie_m['date'] = pd.to_datetime(ie_m['date'], format='%Y.%m')\n",
    "ie_m['date'] = ie_m['date'] + MonthEnd(0)\n",
    "ie_m = ie_m.iloc[:-1]\n",
    "\n",
    "# Merge\n",
    "ts = pd.merge(ie_m, datastream, on='date', how='outer')"
   ]
  },
  {
   "cell_type": "code",
   "execution_count": 53,
   "metadata": {},
   "outputs": [],
   "source": [
    "# Load 3-factor data from kenneth frech website\n",
    "ff_m = pd.read_csv(resource +'external/F-F_Research_Data_Factors.CSV', skiprows=3)\n",
    "ff_m = ff_m.set_axis(['date','ex_mkt','smb','hml','rf'], axis=1)\n",
    "ff_m = ff_m.loc[:ff_m[ff_m['date'] == ' Annual Factors: January-December '].index[0]-1]\n",
    "ff_m['date'] = pd.to_datetime(ff_m['date'], format='%Y%m')\n",
    "ff_m['date'] = ff_m['date'] + MonthEnd(0)\n",
    "ff_m[['ex_mkt','smb','hml','rf']] = ff_m[['ex_mkt','smb','hml','rf']].apply(pd.to_numeric)\n",
    "ff_m[['ex_mkt','smb','hml','rf']] = ff_m[['ex_mkt','smb','hml','rf']].div(100)\n",
    "\n",
    "# Merge\n",
    "ts = pd.merge(ts, ff_m, on='date', how='left')"
   ]
  },
  {
   "cell_type": "code",
   "execution_count": 54,
   "metadata": {},
   "outputs": [],
   "source": [
    "# Load momentum data from kenneth frech website\n",
    "mom_m = pd.read_csv(resource +'external/F-F_Momentum_Factor.CSV', skiprows=13)\n",
    "mom_m = mom_m.set_axis(['date','mom'], axis=1)\n",
    "mom_m = mom_m.loc[:mom_m[mom_m['date'] == 'Annual Factors:'].index[0]-1]\n",
    "mom_m['date'] = pd.to_datetime(mom_m['date'], format='%Y%m')\n",
    "mom_m['date'] = mom_m['date'] + MonthEnd(0)\n",
    "mom_m['mom'] = mom_m['mom'].apply(pd.to_numeric)\n",
    "mom_m['mom'] = mom_m['mom']/100\n",
    "\n",
    "# Merge\n",
    "ts = pd.merge(ts, mom_m, on='date', how='left')"
   ]
  },
  {
   "cell_type": "code",
   "execution_count": 55,
   "metadata": {},
   "outputs": [],
   "source": [
    "# Load data from fred\n",
    "fred = pd.read_csv(resource +'pulled/fred.csv', parse_dates=['date'])\n",
    "fred = fred[['date','DTB3','DGS10','DGS1','AAA','BAA','TWEXM','DTWEXAFEGS']]\n",
    "fred['TWEXM'] = pd.to_numeric(fred['TWEXM'], errors='coerce')\n",
    "fred['DTWEXAFEGS'] = pd.to_numeric(fred['DTWEXAFEGS'], errors='coerce')\n",
    "fred[['DTB3','DGS10','DGS1','AAA','BAA','TWEXM','DTWEXAFEGS']] = fred[['DTB3','DGS10','DGS1','AAA','BAA','TWEXM','DTWEXAFEGS']].div(100)\n",
    "\n",
    "# Merge\n",
    "ts = pd.merge(ts, fred, on='date', how='left')"
   ]
  },
  {
   "cell_type": "code",
   "execution_count": 56,
   "metadata": {},
   "outputs": [],
   "source": [
    "# Load bond returns data (high yield and government) from bloomBMrg\n",
    "xl = pd.ExcelFile(resource +'external/bloomberg.xlsx')\n",
    "\n",
    "# Load industrial production\n",
    "bl = xl.parse('data', skiprows=2, parse_dates=['Dates'])\n",
    "bl = bl.set_axis(['date', 'long_gov_ret', 'medium_gov_ret','high_yd_bd_ret'], axis=1)\n",
    "bl[['long_gov_ret', 'medium_gov_ret','high_yd_bd_ret']] = bl[['long_gov_ret', 'medium_gov_ret','high_yd_bd_ret']].div(100)\n",
    "bl['date'] = bl['date'] + MonthEnd(0)\n",
    "\n",
    "# Merge\n",
    "ts = pd.merge(ts, bl, on='date', how='left')"
   ]
  },
  {
   "cell_type": "code",
   "execution_count": 57,
   "metadata": {},
   "outputs": [],
   "source": [
    "# Load Vassalou dsv (change in the aggregate survival probability) data\n",
    "xl = pd.ExcelFile(resource +'external/DSV.xls')\n",
    "\n",
    "# Load (Vassalou) dsv data\n",
    "vass = xl.parse('Sheet1', header=None)\n",
    "vass = vass.set_axis(['date', 'v_dsv'], axis=1)\n",
    "vass['date'] = pd.to_datetime(vass['date'], format='%Y%m')\n",
    "vass['date'] = vass['date'] + MonthEnd(0)\n",
    "vass['v_dsv'] = vass['v_dsv']/100\n",
    "\n",
    "# Merge\n",
    "ts = pd.merge(ts, vass, on='date', how='left')"
   ]
  },
  {
   "cell_type": "code",
   "execution_count": 58,
   "metadata": {},
   "outputs": [],
   "source": [
    "# Load my own default prob data\n",
    "files = glob.glob(resource + 'generated/p_def_*.csv')\n",
    "data = []\n",
    "for file in files:\n",
    "    df = pd.read_csv(file, parse_dates=['date'])\n",
    "    data.append(df)\n",
    "default = pd.concat(data)\n",
    "default.reset_index(drop=True, inplace=True)\n",
    "\n",
    "# default['month']=default['date'].dt.month\n",
    "# default['year']=default['date'].dt.year\n",
    "default = default.groupby(['date'])['p_def'].mean().reset_index()\n",
    "default['p_surv'] = 1 - default['p_def']\n",
    "default['my_dsv'] = (default['p_surv'] - default['p_surv'].shift(1))\n",
    "\n",
    "my_dsv = default[['date','my_dsv']]\n",
    "\n",
    "# Merge\n",
    "ts = pd.merge(ts, my_dsv, on='date', how='left')"
   ]
  },
  {
   "cell_type": "code",
   "execution_count": 59,
   "metadata": {},
   "outputs": [],
   "source": [
    "ts.to_csv(results + 'time_series.csv', index=False)"
   ]
  },
  {
   "cell_type": "code",
   "execution_count": 60,
   "metadata": {},
   "outputs": [],
   "source": [
    "# Load BM portfolios returns data from kenneth frech website\n",
    "bm_port = pd.read_csv(resource +'external/Portfolios_Formed_on_BE-ME.CSV', skiprows=23)\n",
    "bm_port = bm_port.set_axis(['date','less_zero','lo_30','med_40','hi_30','lo_20','qnt_2','qnt3','qnt_4','hi_20','dec_1','dec_2','dec_3','dec_4','dec_5','dec_6','dec_7','dec_8','dec_9','dec_10'], axis=1)\n",
    "bm_port = bm_port.loc[:bm_port[bm_port['date'] == '  Equal Weight Returns -- Monthly'].index[0]-2]\n",
    "bm_port['date'] = pd.to_datetime(bm_port['date'], format='%Y%m')\n",
    "bm_port['date'] = bm_port['date'] + MonthEnd(0)\n",
    "bm_port[['less_zero','lo_30','med_40','hi_30','lo_20','qnt_2','qnt3','qnt_4','hi_20','dec_1','dec_2','dec_3','dec_4','dec_5','dec_6','dec_7','dec_8','dec_9','dec_10']] = bm_port[['less_zero','lo_30','med_40','hi_30','lo_20','qnt_2','qnt3','qnt_4','hi_20','dec_1','dec_2','dec_3','dec_4','dec_5','dec_6','dec_7','dec_8','dec_9','dec_10']].apply(pd.to_numeric)\n",
    "bm_port[['less_zero','lo_30','med_40','hi_30','lo_20','qnt_2','qnt3','qnt_4','hi_20','dec_1','dec_2','dec_3','dec_4','dec_5','dec_6','dec_7','dec_8','dec_9','dec_10']] = bm_port[['less_zero','lo_30','med_40','hi_30','lo_20','qnt_2','qnt3','qnt_4','hi_20','dec_1','dec_2','dec_3','dec_4','dec_5','dec_6','dec_7','dec_8','dec_9','dec_10']].div(100)\n",
    "\n",
    "# Merge\n",
    "bm_port.to_csv(results + 'bm_port.csv', index=False)"
   ]
  },
  {
   "cell_type": "code",
   "execution_count": 61,
   "metadata": {},
   "outputs": [],
   "source": [
    "# Load mom portfolios returns data from kenneth frech website\n",
    "size_port = pd.read_csv(resource +'external/Portfolios_Formed_on_ME.CSV', skiprows=12)\n",
    "size_port = size_port.set_axis(['date','less_zero','lo_30','med_40','hi_30','lo_20','qnt_2','qnt3','qnt_4','hi_20','dec_1','dec_2','dec_3','dec_4','dec_5','dec_6','dec_7','dec_8','dec_9','dec_10'], axis=1)\n",
    "size_port = size_port.loc[:size_port[size_port['date'] == '  Equal Weight Returns -- Monthly'].index[0]-2]\n",
    "size_port['date'] = pd.to_datetime(size_port['date'], format='%Y%m')\n",
    "size_port['date'] = size_port['date'] + MonthEnd(0)\n",
    "size_port[['less_zero','lo_30','med_40','hi_30','lo_20','qnt_2','qnt3','qnt_4','hi_20','dec_1','dec_2','dec_3','dec_4','dec_5','dec_6','dec_7','dec_8','dec_9','dec_10']] = size_port[['less_zero','lo_30','med_40','hi_30','lo_20','qnt_2','qnt3','qnt_4','hi_20','dec_1','dec_2','dec_3','dec_4','dec_5','dec_6','dec_7','dec_8','dec_9','dec_10']].apply(pd.to_numeric)\n",
    "size_port[['less_zero','lo_30','med_40','hi_30','lo_20','qnt_2','qnt3','qnt_4','hi_20','dec_1','dec_2','dec_3','dec_4','dec_5','dec_6','dec_7','dec_8','dec_9','dec_10']] = size_port[['less_zero','lo_30','med_40','hi_30','lo_20','qnt_2','qnt3','qnt_4','hi_20','dec_1','dec_2','dec_3','dec_4','dec_5','dec_6','dec_7','dec_8','dec_9','dec_10']].div(100)\n",
    "\n",
    "# Merge\n",
    "size_port.to_csv(results + 'size_port.csv', index=False)"
   ]
  },
  {
   "cell_type": "code",
   "execution_count": 62,
   "metadata": {},
   "outputs": [],
   "source": [
    "# Load momentum portfolios returns data from kenneth frech website\n",
    "mom_port = pd.read_csv(resource +'external/10_Portfolios_Prior_12_2.CSV', skiprows=10)\n",
    "mom_port = mom_port.set_axis(['date','dec_1','dec_2','dec_3','dec_4','dec_5','dec_6','dec_7','dec_8','dec_9','dec_10'], axis=1)\n",
    "mom_port = mom_port.loc[:mom_port[mom_port['date'] == '  Average Equal Weighted Returns -- Monthly'].index[0]-2]\n",
    "mom_port['date'] = pd.to_datetime(mom_port['date'], format='%Y%m')\n",
    "mom_port['date'] = mom_port['date'] + MonthEnd(0)\n",
    "mom_port[['dec_1','dec_2','dec_3','dec_4','dec_5','dec_6','dec_7','dec_8','dec_9','dec_10']] = mom_port[['dec_1','dec_2','dec_3','dec_4','dec_5','dec_6','dec_7','dec_8','dec_9','dec_10']].apply(pd.to_numeric)\n",
    "mom_port[['dec_1','dec_2','dec_3','dec_4','dec_5','dec_6','dec_7','dec_8','dec_9','dec_10']] = mom_port[['dec_1','dec_2','dec_3','dec_4','dec_5','dec_6','dec_7','dec_8','dec_9','dec_10']].div(100)\n",
    "\n",
    "# Merge\n",
    "mom_port.to_csv(results + 'mom_port.csv', index=False)"
   ]
  }
 ],
 "metadata": {
  "kernelspec": {
   "display_name": ".env",
   "language": "python",
   "name": "python3"
  },
  "language_info": {
   "codemirror_mode": {
    "name": "ipython",
    "version": 3
   },
   "file_extension": ".py",
   "mimetype": "text/x-python",
   "name": "python",
   "nbconvert_exporter": "python",
   "pygments_lexer": "ipython3",
   "version": "3.11.1"
  },
  "orig_nbformat": 4
 },
 "nbformat": 4,
 "nbformat_minor": 2
}
