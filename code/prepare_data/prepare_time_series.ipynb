{
 "cells": [
  {
   "cell_type": "code",
   "execution_count": 66,
   "metadata": {},
   "outputs": [],
   "source": [
    "import pandas as pd\n",
    "from pandas.tseries.offsets import *\n",
    "import numpy as np"
   ]
  },
  {
   "cell_type": "code",
   "execution_count": 67,
   "metadata": {},
   "outputs": [],
   "source": [
    "# File position\n",
    "resource = '../../data/'\n",
    "results = '../../data/generated/'"
   ]
  },
  {
   "cell_type": "code",
   "execution_count": 68,
   "metadata": {},
   "outputs": [],
   "source": [
    "# Load spreadsheet from Datastream\n",
    "xl = pd.ExcelFile(resource +'external/datastream.xlsx')\n",
    "\n",
    "# Load industrial production\n",
    "ind_prod = xl.parse('ind_prod', skiprows=2, parse_dates=[0])\n",
    "ind_prod = ind_prod.set_axis(['date', 'ind_prod'], axis=1)\n",
    "ind_prod['date'] = ind_prod['date'] + MonthEnd(0)\n",
    "\n",
    "# Load inflation \n",
    "# cpi = xl.parse('cpi', skiprows=2, parse_dates=[0])\n",
    "# cpi = cpi.set_axis(['date', 'cpi'], axis=1)\n",
    "# cpi['date'] = cpi['date'] + MonthEnd(0)\n",
    "\n",
    "# Load gold index\n",
    "gold = xl.parse('gold', skiprows=2, parse_dates=[0])\n",
    "gold = gold.set_axis(['date', 'gold'], axis=1)\n",
    "gold['month'] = gold['date'].dt.to_period('M')\n",
    "gold = gold.groupby('month').last().reset_index(drop=True)\n",
    "gold['date'] = gold['date'] + MonthEnd(0)\n",
    "\n",
    "# Merge\n",
    "datastream = pd.merge(ind_prod, gold, on='date', how='outer')\n",
    "# ts = pd.merge(ts, cpi, on='date', how='outer')"
   ]
  },
  {
   "cell_type": "code",
   "execution_count": 69,
   "metadata": {},
   "outputs": [],
   "source": [
    "# Load spreadsheet from Shiller's website\n",
    "xl = pd.ExcelFile(resource +'external/ie_data.xls')\n",
    "ie_m = xl.parse('Data', skiprows=7)\n",
    "ie_m = ie_m[['Date','P','D','CPI']]\n",
    "ie_m = ie_m.set_axis(['date','sp_price','sp_div','cpi'], axis=1)\n",
    "ie_m['date'] =  ie_m['date'].apply(lambda x: f'{x:.2f}')\n",
    "ie_m['date'] = pd.to_datetime(ie_m['date'], format='%Y.%m')\n",
    "ie_m['date'] = ie_m['date'] + MonthEnd(0)\n",
    "ie_m = ie_m.iloc[:-1]\n",
    "\n",
    "# Merge\n",
    "ts = pd.merge(ie_m, datastream, on='date', how='outer')"
   ]
  },
  {
   "cell_type": "code",
   "execution_count": 70,
   "metadata": {},
   "outputs": [],
   "source": [
    "# Load 3-factor data from kenneth frech website\n",
    "ff_m = pd.read_csv(resource +'external/F-F_Research_Data_Factors.CSV', skiprows=3)\n",
    "ff_m = ff_m.set_axis(['date','ex_mkt','smb','hml','rf'], axis=1)\n",
    "ff_m = ff_m.loc[:ff_m[ff_m['date'] == ' Annual Factors: January-December '].index[0]-1]\n",
    "ff_m['date'] = pd.to_datetime(ff_m['date'], format='%Y%m')\n",
    "ff_m['date'] = ff_m['date'] + MonthEnd(0)\n",
    "ff_m[['ex_mkt','smb','hml','rf']] = ff_m[['ex_mkt','smb','hml','rf']].apply(pd.to_numeric)\n",
    "ff_m[['ex_mkt','smb','hml','rf']] = ff_m[['ex_mkt','smb','hml','rf']].div(100)\n",
    "\n",
    "# Merge\n",
    "ts = pd.merge(ts, ff_m, on='date', how='left')"
   ]
  },
  {
   "cell_type": "code",
   "execution_count": 71,
   "metadata": {},
   "outputs": [],
   "source": [
    "# Load momentum data from kenneth frech website\n",
    "mom_m = pd.read_csv(resource +'external/F-F_Momentum_Factor.CSV', skiprows=13)\n",
    "mom_m = mom_m.set_axis(['date','mom'], axis=1)\n",
    "mom_m = mom_m.loc[:mom_m[mom_m['date'] == 'Annual Factors:'].index[0]-1]\n",
    "mom_m['date'] = pd.to_datetime(mom_m['date'], format='%Y%m')\n",
    "mom_m['date'] = mom_m['date'] + MonthEnd(0)\n",
    "mom_m['mom'] = mom_m['mom'].apply(pd.to_numeric)\n",
    "mom_m['mom'] = mom_m['mom']/100\n",
    "\n",
    "# Merge\n",
    "ts = pd.merge(ts, mom_m, on='date', how='left')"
   ]
  },
  {
   "cell_type": "code",
   "execution_count": 72,
   "metadata": {},
   "outputs": [],
   "source": [
    "# Load data from fred\n",
    "fred = pd.read_csv(resource +'pulled/fred.csv', parse_dates=['date'])\n",
    "fred = fred[['date','DTB3','DGS10','DGS1','AAA','BAA','TWEXBMTH','TWEXBGSMTH']]\n",
    "fred['TWEXBGSMTH'] = pd.to_numeric(fred['TWEXBGSMTH'], errors='coerce')\n",
    "fred[['DTB3','DGS10','DGS1','AAA','BAA','TWEXBMTH','TWEXBGSMTH']] = fred[['DTB3','DGS10','DGS1','AAA','BAA','TWEXBMTH','TWEXBGSMTH']].div(100)\n",
    "\n",
    "# Merge\n",
    "ts = pd.merge(ts, fred, on='date', how='left')"
   ]
  },
  {
   "cell_type": "code",
   "execution_count": 73,
   "metadata": {},
   "outputs": [],
   "source": [
    "# Load bond returns data (high yield and government) from bloomberg\n",
    "xl = pd.ExcelFile(resource +'external/bloomberg.xlsx')\n",
    "\n",
    "# Load industrial production\n",
    "bl = xl.parse('data', skiprows=2, parse_dates=['Dates'])\n",
    "bl = bl.set_axis(['date', 'long_gov_ret', 'medium_gov_ret','high_yd_bd_ret'], axis=1)\n",
    "bl[['long_gov_ret', 'medium_gov_ret','high_yd_bd_ret']] = bl[['long_gov_ret', 'medium_gov_ret','high_yd_bd_ret']].div(100)\n",
    "bl['date'] = bl['date'] + MonthEnd(0)\n",
    "\n",
    "# Merge\n",
    "ts = pd.merge(ts, bl, on='date', how='left')"
   ]
  },
  {
   "cell_type": "code",
   "execution_count": 74,
   "metadata": {},
   "outputs": [],
   "source": [
    "# Load dsv (change in the aggregate survival probability) data\n",
    "xl = pd.ExcelFile(resource +'external/DSV.xls')\n",
    "\n",
    "# Load industrial production\n",
    "dsv = xl.parse('Sheet1', header=None)\n",
    "dsv = dsv.set_axis(['date', 'dsv'], axis=1)\n",
    "dsv['date'] = pd.to_datetime(dsv['date'], format='%Y%m')\n",
    "dsv['date'] = dsv['date'] + MonthEnd(0)\n",
    "dsv['dsv'] = dsv['dsv']/100\n",
    "\n",
    "# Merge\n",
    "ts = pd.merge(ts, dsv, on='date', how='left')"
   ]
  },
  {
   "cell_type": "code",
   "execution_count": 75,
   "metadata": {},
   "outputs": [],
   "source": [
    "ts.to_csv(results + 'time_series.csv', index=False)"
   ]
  }
 ],
 "metadata": {
  "kernelspec": {
   "display_name": ".env",
   "language": "python",
   "name": "python3"
  },
  "language_info": {
   "codemirror_mode": {
    "name": "ipython",
    "version": 3
   },
   "file_extension": ".py",
   "mimetype": "text/x-python",
   "name": "python",
   "nbconvert_exporter": "python",
   "pygments_lexer": "ipython3",
   "version": "3.11.1"
  },
  "orig_nbformat": 4
 },
 "nbformat": 4,
 "nbformat_minor": 2
}
